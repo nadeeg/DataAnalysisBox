{
 "cells": [
  {
   "cell_type": "markdown",
   "metadata": {},
   "source": [
    "Sleep trends\n",
    "=========================\n",
    "Here we explore the sleep behaviour of the participants across a 1 year window"
   ]
  },
  {
   "cell_type": "code",
   "execution_count": 1,
   "metadata": {
    "collapsed": false
   },
   "outputs": [],
   "source": [
    "%matplotlib inline\n",
    "import pandas as pd\n",
    "import numpy as np\n",
    "import matplotlib.pyplot as plt\n",
    "import time\n",
    "import math\n",
    "import eps_min_pts as eps_And_MinPts\n",
    "import helper_adl as h\n",
    "import cluster_sleep_periods as csp\n",
    "import adl_io\n",
    "import datetime as dt"
   ]
  },
  {
   "cell_type": "markdown",
   "metadata": {},
   "source": [
    "**Load all sensor data**"
   ]
  },
  {
   "cell_type": "code",
   "execution_count": 2,
   "metadata": {
    "collapsed": false
   },
   "outputs": [
    {
     "ename": "FileNotFoundError",
     "evalue": "[WinError 3] The system cannot find the path specified: 'sleep/sleep_agg/'",
     "output_type": "error",
     "traceback": [
      "\u001b[1;31m---------------------------------------------------------------------------\u001b[0m",
      "\u001b[1;31mFileNotFoundError\u001b[0m                         Traceback (most recent call last)",
      "\u001b[1;32m<ipython-input-2-92cf5bae2cd1>\u001b[0m in \u001b[0;36m<module>\u001b[1;34m()\u001b[0m\n\u001b[0;32m      1\u001b[0m \u001b[1;31m# Load all sensor data\u001b[0m\u001b[1;33m\u001b[0m\u001b[1;33m\u001b[0m\u001b[0m\n\u001b[1;32m----> 2\u001b[1;33m \u001b[0mframe_list\u001b[0m \u001b[1;33m=\u001b[0m \u001b[0madl_io\u001b[0m\u001b[1;33m.\u001b[0m\u001b[0msleep_to_cluster_aggregate\u001b[0m\u001b[1;33m(\u001b[0m\u001b[1;33m)\u001b[0m\u001b[1;33m\u001b[0m\u001b[0m\n\u001b[0m\u001b[0;32m      3\u001b[0m \u001b[0mprint\u001b[0m\u001b[1;33m(\u001b[0m\u001b[1;34m'Frame list length : '\u001b[0m\u001b[1;33m,\u001b[0m\u001b[0mlen\u001b[0m\u001b[1;33m(\u001b[0m\u001b[0mframe_list\u001b[0m\u001b[1;33m)\u001b[0m\u001b[1;33m)\u001b[0m\u001b[1;33m\u001b[0m\u001b[0m\n\u001b[0;32m      4\u001b[0m \u001b[0mall_df\u001b[0m \u001b[1;33m=\u001b[0m \u001b[0mpd\u001b[0m\u001b[1;33m.\u001b[0m\u001b[0mconcat\u001b[0m\u001b[1;33m(\u001b[0m\u001b[0mframe_list\u001b[0m\u001b[1;33m)\u001b[0m\u001b[1;33m\u001b[0m\u001b[0m\n",
      "\u001b[1;32mD:\\WorkSpace\\iPythonNotebook\\SMU-iCityLab_Sleep-Pattern-Analysis\\Code\\adl_io.py\u001b[0m in \u001b[0;36msleep_to_cluster_aggregate\u001b[1;34m(path, output_path)\u001b[0m\n\u001b[0;32m     19\u001b[0m \t\"\"\"\n\u001b[0;32m     20\u001b[0m \u001b[1;33m\u001b[0m\u001b[0m\n\u001b[1;32m---> 21\u001b[1;33m         \u001b[0mfiles\u001b[0m \u001b[1;33m=\u001b[0m \u001b[1;33m[\u001b[0m\u001b[0mf\u001b[0m \u001b[1;32mfor\u001b[0m \u001b[0mf\u001b[0m \u001b[1;32min\u001b[0m \u001b[0mlistdir\u001b[0m\u001b[1;33m(\u001b[0m\u001b[0mpath\u001b[0m\u001b[1;33m)\u001b[0m \u001b[1;32mif\u001b[0m \u001b[0misfile\u001b[0m\u001b[1;33m(\u001b[0m\u001b[0mjoin\u001b[0m\u001b[1;33m(\u001b[0m\u001b[0mpath\u001b[0m\u001b[1;33m,\u001b[0m \u001b[0mf\u001b[0m\u001b[1;33m)\u001b[0m\u001b[1;33m)\u001b[0m\u001b[1;33m]\u001b[0m\u001b[1;33m\u001b[0m\u001b[0m\n\u001b[0m\u001b[0;32m     22\u001b[0m         \u001b[0mfile_count\u001b[0m \u001b[1;33m=\u001b[0m \u001b[0mlen\u001b[0m\u001b[1;33m(\u001b[0m\u001b[0mfiles\u001b[0m\u001b[1;33m)\u001b[0m\u001b[1;33m\u001b[0m\u001b[0m\n\u001b[0;32m     23\u001b[0m         \u001b[0mfiles_with_error\u001b[0m \u001b[1;33m=\u001b[0m \u001b[1;33m[\u001b[0m\u001b[1;33m]\u001b[0m\u001b[1;33m\u001b[0m\u001b[0m\n",
      "\u001b[1;31mFileNotFoundError\u001b[0m: [WinError 3] The system cannot find the path specified: 'sleep/sleep_agg/'"
     ]
    }
   ],
   "source": [
    "# Load all sensor data \n",
    "frame_list = adl_io.sleep_to_cluster_aggregate()\n",
    "print('Frame list length : ',len(frame_list))\n",
    "all_df = pd.concat(frame_list)"
   ]
  },
  {
   "cell_type": "markdown",
   "metadata": {},
   "source": [
    "**Processing/Correcting dataframe**"
   ]
  },
  {
   "cell_type": "code",
   "execution_count": 69,
   "metadata": {
    "collapsed": false
   },
   "outputs": [
    {
     "name": "stdout",
     "output_type": "stream",
     "text": [
      "Columns :  Index(['id', 'month', 'cluster', 'centroid', 'std', 'variance', 'start_end'], dtype='object')\n",
      "      year\n",
      "0     2015\n",
      "1     2015\n",
      "2     2015\n",
      "3     2015\n",
      "4     2015\n",
      "5     2015\n",
      "6     2015\n",
      "7     2015\n",
      "8     2015\n",
      "9     2015\n",
      "10    2015\n",
      "11    2015\n",
      "12    2015\n",
      "13    2015\n",
      "14    2015\n",
      "15    2015\n",
      "16    2015\n",
      "17    2015\n",
      "18    2015\n",
      "19    2015\n",
      "20    2015\n",
      "21    2015\n",
      "22    2015\n",
      "23    2015\n",
      "24    2015\n",
      "25    2015\n",
      "26    2015\n",
      "27    2015\n",
      "28    2015\n",
      "29    2015\n",
      "...    ...\n",
      "1744  2016\n",
      "1745  2016\n",
      "1746  2016\n",
      "1747  2016\n",
      "1748  2016\n",
      "1749  2016\n",
      "1750  2016\n",
      "1751  2016\n",
      "1752  2016\n",
      "1753  2016\n",
      "1754  2016\n",
      "1755  2016\n",
      "1756  2016\n",
      "1757  2016\n",
      "1758  2016\n",
      "1759  2016\n",
      "1760  2016\n",
      "1761  2016\n",
      "1762  2016\n",
      "1763  2016\n",
      "1764  2016\n",
      "1765  2016\n",
      "1766  2016\n",
      "1767  2016\n",
      "1768  2016\n",
      "1769  2016\n",
      "1770  2016\n",
      "1771  2016\n",
      "1772  2016\n",
      "1773  2016\n",
      "\n",
      "[1774 rows x 1 columns]\n",
      "     id      month  cluster            centroid                 std  \\\n",
      "0  S001 2015-07-01        0 2016-08-02 07:28:00 2016-08-02 04:27:00   \n",
      "1  S001 2015-07-01        0 2016-08-02 09:02:00 2016-08-02 03:59:00   \n",
      "2  S001 2015-07-01        1 2016-08-02 21:05:00 2016-08-02 01:08:00   \n",
      "3  S001 2015-07-01        1 2016-08-02 04:57:00 2016-08-02 01:13:00   \n",
      "4  S002 2015-07-01        0 2016-08-02 00:45:00 2016-08-02 00:47:00   \n",
      "\n",
      "             variance start_end  \n",
      "0 2016-08-02 05:10:00     start  \n",
      "1 2016-08-02 04:08:00       end  \n",
      "2 2016-08-02 00:20:00     start  \n",
      "3 2016-08-02 00:23:00       end  \n",
      "4 2016-08-02 00:09:00     start  \n",
      "id                   object\n",
      "month        datetime64[ns]\n",
      "cluster               int64\n",
      "centroid     datetime64[ns]\n",
      "std          datetime64[ns]\n",
      "variance     datetime64[ns]\n",
      "start_end            object\n",
      "dtype: object\n"
     ]
    }
   ],
   "source": [
    "print('Columns : ',all_df.columns)\n",
    "# Fix index\n",
    "all_df = all_df.reset_index(drop=True)\n",
    "# checking data types\n",
    "# print(all_df.head)\n",
    "columns_to_date = ['month','centroid', 'std', 'variance']\n",
    "all_df[columns_to_date] = all_df[columns_to_date].apply(pd.to_datetime)\n",
    "# all_df['centroid'].apply(pd.to_datetime, format='%H:%M')\n",
    "new_all_df = pd.DataFrame()\n",
    "\n",
    "print(new_all_df)\n",
    "print(all_df.head())\n",
    "print(all_df.dtypes)"
   ]
  },
  {
   "cell_type": "code",
   "execution_count": null,
   "metadata": {
    "collapsed": false
   },
   "outputs": [],
   "source": [
    "# lets try one participant...\n",
    "participant = 'S042'\n",
    "part_df = all_df.ix[all_df['id'] == participant]\n",
    "print(part_df)"
   ]
  }
 ],
 "metadata": {
  "kernelspec": {
   "display_name": "Python [Root]",
   "language": "python",
   "name": "Python [Root]"
  },
  "language_info": {
   "codemirror_mode": {
    "name": "ipython",
    "version": 3
   },
   "file_extension": ".py",
   "mimetype": "text/x-python",
   "name": "python",
   "nbconvert_exporter": "python",
   "pygments_lexer": "ipython3",
   "version": "3.5.2"
  }
 },
 "nbformat": 4,
 "nbformat_minor": 0
}
